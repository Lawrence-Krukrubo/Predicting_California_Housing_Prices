{
  "nbformat": 4,
  "nbformat_minor": 0,
  "metadata": {
    "colab": {
      "name": "part_1_predicting_california_housing_prices.ipynb",
      "provenance": [],
      "collapsed_sections": [],
      "authorship_tag": "ABX9TyPOYcFxvX7HPcyHFhcpnflr",
      "include_colab_link": true
    },
    "kernelspec": {
      "name": "python3",
      "display_name": "Python 3"
    }
  },
  "cells": [
    {
      "cell_type": "markdown",
      "metadata": {
        "id": "view-in-github",
        "colab_type": "text"
      },
      "source": [
        "<a href=\"https://colab.research.google.com/github/Lawrence-Krukrubo/Predicting_California_Housing_Prices/blob/master/part_1_predicting_california_housing_prices.ipynb\" target=\"_parent\"><img src=\"https://colab.research.google.com/assets/colab-badge.svg\" alt=\"Open In Colab\"/></a>"
      ]
    },
    {
      "cell_type": "markdown",
      "metadata": {
        "id": "keq1uqwC6CS4",
        "colab_type": "text"
      },
      "source": [
        "We shall hard-code a Neural Network using python and use it to predict the price of houses in california. <br> \n"
      ]
    },
    {
      "cell_type": "markdown",
      "metadata": {
        "id": "K7o1dvcp88Xg",
        "colab_type": "text"
      },
      "source": [
        "The [Universal Function Approximation Theorem](https://en.wikipedia.org/wiki/Universal_approximation_theorem) states that a neural network with a single hidden layer and a finite number of neurons can approximate continous functions on compact subsets of data points in hyper-dimensional vector spaces, under mild assumptions of the activation function."
      ]
    },
    {
      "cell_type": "markdown",
      "metadata": {
        "id": "BgSV_gAkj_pF",
        "colab_type": "text"
      },
      "source": [
        "## **PART 1: The Needed Modules:**"
      ]
    },
    {
      "cell_type": "code",
      "metadata": {
        "id": "2-_XA1zyxTTI",
        "colab_type": "code",
        "colab": {
          "base_uri": "https://localhost:8080/",
          "height": 87
        },
        "outputId": "01ad7811-20ab-4cc0-8c9c-ff39f48a9f5a"
      },
      "source": [
        "import numpy as np\n",
        "import pandas as pd\n",
        "import matplotlib.pyplot as plt\n",
        "import seaborn as sns\n",
        "import sklearn as sk\n",
        "import sklearn.linear_model\n",
        "import scipy\n",
        "from PIL import Image\n",
        "from scipy import ndimage\n",
        "print('all modules imported!')"
      ],
      "execution_count": 1,
      "outputs": [
        {
          "output_type": "stream",
          "text": [
            "/usr/local/lib/python3.6/dist-packages/statsmodels/tools/_testing.py:19: FutureWarning: pandas.util.testing is deprecated. Use the functions in the public API at pandas.testing instead.\n",
            "  import pandas.util.testing as tm\n"
          ],
          "name": "stderr"
        },
        {
          "output_type": "stream",
          "text": [
            "all modules imported!\n"
          ],
          "name": "stdout"
        }
      ]
    },
    {
      "cell_type": "code",
      "metadata": {
        "id": "L2LRj5F1KpV4",
        "colab_type": "code",
        "colab": {}
      },
      "source": [
        ""
      ],
      "execution_count": 1,
      "outputs": []
    },
    {
      "cell_type": "markdown",
      "metadata": {
        "id": "DsAnPZGKkL7_",
        "colab_type": "text"
      },
      "source": [
        "## **PART 2: The Data and Preprocessing:**"
      ]
    },
    {
      "cell_type": "code",
      "metadata": {
        "id": "rfBj1-Jox4N0",
        "colab_type": "code",
        "colab": {
          "base_uri": "https://localhost:8080/",
          "height": 50
        },
        "outputId": "745a3619-4753-4f9a-bba9-8e0b8bd75da6"
      },
      "source": [
        "california_train = pd.read_csv('sample_data/california_housing_train.csv')\n",
        "california_test = pd.read_csv('sample_data/california_housing_test.csv')\n",
        "print(f'Shape of training data is: {california_train.shape},\\nShape of testing data is: {california_test.shape}')"
      ],
      "execution_count": 2,
      "outputs": [
        {
          "output_type": "stream",
          "text": [
            "Shape of training data is: (17000, 9),\n",
            "Shape of testing data is: (3000, 9)\n"
          ],
          "name": "stdout"
        }
      ]
    },
    {
      "cell_type": "markdown",
      "metadata": {
        "id": "1XOrxMDxJpGz",
        "colab_type": "text"
      },
      "source": [
        "<h4><b>The Data Dictionary:</b></h4>\n",
        "\n",
        "1. **longitude:** <br>A measure of how far west a house is; a higher value is farther west\n",
        "\n",
        "2. **latitude:** <br>A measure of how far north a house is; a higher value is farther north\n",
        "\n",
        "3. **housingMedianAge:** <br>Median age of a house within a block; a lower number is a newer building\n",
        "\n",
        "4. **totalRooms:** <br>Total number of rooms within a block\n",
        "\n",
        "5. **totalBedrooms:** <br>Total number of bedrooms within a block\n",
        "\n",
        "6. **population:** <br>Total number of people residing within a block\n",
        "\n",
        "7. **households:** <br>Total number of households, a group of people residing within a home unit, for a block\n",
        "\n",
        "8. **medianIncome:** <br>Median income for households within a block of houses (measured in tens of thousands of US Dollars)\n",
        "\n",
        "9. **medianHouseValue:** <br>Median house value for households within a block (measured in US Dollars)\n"
      ]
    },
    {
      "cell_type": "markdown",
      "metadata": {
        "id": "lzuy-eADKgjo",
        "colab_type": "text"
      },
      "source": [
        "Let's see the heads of the training and testing sets."
      ]
    },
    {
      "cell_type": "code",
      "metadata": {
        "id": "Db2rSoTZzZt-",
        "colab_type": "code",
        "colab": {
          "base_uri": "https://localhost:8080/",
          "height": 195
        },
        "outputId": "097d97cf-28e3-4b09-bd65-4a4031c43bba"
      },
      "source": [
        "california_train.head()"
      ],
      "execution_count": 3,
      "outputs": [
        {
          "output_type": "execute_result",
          "data": {
            "text/html": [
              "<div>\n",
              "<style scoped>\n",
              "    .dataframe tbody tr th:only-of-type {\n",
              "        vertical-align: middle;\n",
              "    }\n",
              "\n",
              "    .dataframe tbody tr th {\n",
              "        vertical-align: top;\n",
              "    }\n",
              "\n",
              "    .dataframe thead th {\n",
              "        text-align: right;\n",
              "    }\n",
              "</style>\n",
              "<table border=\"1\" class=\"dataframe\">\n",
              "  <thead>\n",
              "    <tr style=\"text-align: right;\">\n",
              "      <th></th>\n",
              "      <th>longitude</th>\n",
              "      <th>latitude</th>\n",
              "      <th>housing_median_age</th>\n",
              "      <th>total_rooms</th>\n",
              "      <th>total_bedrooms</th>\n",
              "      <th>population</th>\n",
              "      <th>households</th>\n",
              "      <th>median_income</th>\n",
              "      <th>median_house_value</th>\n",
              "    </tr>\n",
              "  </thead>\n",
              "  <tbody>\n",
              "    <tr>\n",
              "      <th>0</th>\n",
              "      <td>-114.31</td>\n",
              "      <td>34.19</td>\n",
              "      <td>15.0</td>\n",
              "      <td>5612.0</td>\n",
              "      <td>1283.0</td>\n",
              "      <td>1015.0</td>\n",
              "      <td>472.0</td>\n",
              "      <td>1.4936</td>\n",
              "      <td>66900.0</td>\n",
              "    </tr>\n",
              "    <tr>\n",
              "      <th>1</th>\n",
              "      <td>-114.47</td>\n",
              "      <td>34.40</td>\n",
              "      <td>19.0</td>\n",
              "      <td>7650.0</td>\n",
              "      <td>1901.0</td>\n",
              "      <td>1129.0</td>\n",
              "      <td>463.0</td>\n",
              "      <td>1.8200</td>\n",
              "      <td>80100.0</td>\n",
              "    </tr>\n",
              "    <tr>\n",
              "      <th>2</th>\n",
              "      <td>-114.56</td>\n",
              "      <td>33.69</td>\n",
              "      <td>17.0</td>\n",
              "      <td>720.0</td>\n",
              "      <td>174.0</td>\n",
              "      <td>333.0</td>\n",
              "      <td>117.0</td>\n",
              "      <td>1.6509</td>\n",
              "      <td>85700.0</td>\n",
              "    </tr>\n",
              "    <tr>\n",
              "      <th>3</th>\n",
              "      <td>-114.57</td>\n",
              "      <td>33.64</td>\n",
              "      <td>14.0</td>\n",
              "      <td>1501.0</td>\n",
              "      <td>337.0</td>\n",
              "      <td>515.0</td>\n",
              "      <td>226.0</td>\n",
              "      <td>3.1917</td>\n",
              "      <td>73400.0</td>\n",
              "    </tr>\n",
              "    <tr>\n",
              "      <th>4</th>\n",
              "      <td>-114.57</td>\n",
              "      <td>33.57</td>\n",
              "      <td>20.0</td>\n",
              "      <td>1454.0</td>\n",
              "      <td>326.0</td>\n",
              "      <td>624.0</td>\n",
              "      <td>262.0</td>\n",
              "      <td>1.9250</td>\n",
              "      <td>65500.0</td>\n",
              "    </tr>\n",
              "  </tbody>\n",
              "</table>\n",
              "</div>"
            ],
            "text/plain": [
              "   longitude  latitude  ...  median_income  median_house_value\n",
              "0    -114.31     34.19  ...         1.4936             66900.0\n",
              "1    -114.47     34.40  ...         1.8200             80100.0\n",
              "2    -114.56     33.69  ...         1.6509             85700.0\n",
              "3    -114.57     33.64  ...         3.1917             73400.0\n",
              "4    -114.57     33.57  ...         1.9250             65500.0\n",
              "\n",
              "[5 rows x 9 columns]"
            ]
          },
          "metadata": {
            "tags": []
          },
          "execution_count": 3
        }
      ]
    },
    {
      "cell_type": "code",
      "metadata": {
        "id": "ZD3Vn0UC0Dkw",
        "colab_type": "code",
        "colab": {
          "base_uri": "https://localhost:8080/",
          "height": 195
        },
        "outputId": "b6c09e41-dd92-46ef-a252-a449c5663f8b"
      },
      "source": [
        "california_test.head()"
      ],
      "execution_count": 4,
      "outputs": [
        {
          "output_type": "execute_result",
          "data": {
            "text/html": [
              "<div>\n",
              "<style scoped>\n",
              "    .dataframe tbody tr th:only-of-type {\n",
              "        vertical-align: middle;\n",
              "    }\n",
              "\n",
              "    .dataframe tbody tr th {\n",
              "        vertical-align: top;\n",
              "    }\n",
              "\n",
              "    .dataframe thead th {\n",
              "        text-align: right;\n",
              "    }\n",
              "</style>\n",
              "<table border=\"1\" class=\"dataframe\">\n",
              "  <thead>\n",
              "    <tr style=\"text-align: right;\">\n",
              "      <th></th>\n",
              "      <th>longitude</th>\n",
              "      <th>latitude</th>\n",
              "      <th>housing_median_age</th>\n",
              "      <th>total_rooms</th>\n",
              "      <th>total_bedrooms</th>\n",
              "      <th>population</th>\n",
              "      <th>households</th>\n",
              "      <th>median_income</th>\n",
              "      <th>median_house_value</th>\n",
              "    </tr>\n",
              "  </thead>\n",
              "  <tbody>\n",
              "    <tr>\n",
              "      <th>0</th>\n",
              "      <td>-122.05</td>\n",
              "      <td>37.37</td>\n",
              "      <td>27.0</td>\n",
              "      <td>3885.0</td>\n",
              "      <td>661.0</td>\n",
              "      <td>1537.0</td>\n",
              "      <td>606.0</td>\n",
              "      <td>6.6085</td>\n",
              "      <td>344700.0</td>\n",
              "    </tr>\n",
              "    <tr>\n",
              "      <th>1</th>\n",
              "      <td>-118.30</td>\n",
              "      <td>34.26</td>\n",
              "      <td>43.0</td>\n",
              "      <td>1510.0</td>\n",
              "      <td>310.0</td>\n",
              "      <td>809.0</td>\n",
              "      <td>277.0</td>\n",
              "      <td>3.5990</td>\n",
              "      <td>176500.0</td>\n",
              "    </tr>\n",
              "    <tr>\n",
              "      <th>2</th>\n",
              "      <td>-117.81</td>\n",
              "      <td>33.78</td>\n",
              "      <td>27.0</td>\n",
              "      <td>3589.0</td>\n",
              "      <td>507.0</td>\n",
              "      <td>1484.0</td>\n",
              "      <td>495.0</td>\n",
              "      <td>5.7934</td>\n",
              "      <td>270500.0</td>\n",
              "    </tr>\n",
              "    <tr>\n",
              "      <th>3</th>\n",
              "      <td>-118.36</td>\n",
              "      <td>33.82</td>\n",
              "      <td>28.0</td>\n",
              "      <td>67.0</td>\n",
              "      <td>15.0</td>\n",
              "      <td>49.0</td>\n",
              "      <td>11.0</td>\n",
              "      <td>6.1359</td>\n",
              "      <td>330000.0</td>\n",
              "    </tr>\n",
              "    <tr>\n",
              "      <th>4</th>\n",
              "      <td>-119.67</td>\n",
              "      <td>36.33</td>\n",
              "      <td>19.0</td>\n",
              "      <td>1241.0</td>\n",
              "      <td>244.0</td>\n",
              "      <td>850.0</td>\n",
              "      <td>237.0</td>\n",
              "      <td>2.9375</td>\n",
              "      <td>81700.0</td>\n",
              "    </tr>\n",
              "  </tbody>\n",
              "</table>\n",
              "</div>"
            ],
            "text/plain": [
              "   longitude  latitude  ...  median_income  median_house_value\n",
              "0    -122.05     37.37  ...         6.6085            344700.0\n",
              "1    -118.30     34.26  ...         3.5990            176500.0\n",
              "2    -117.81     33.78  ...         5.7934            270500.0\n",
              "3    -118.36     33.82  ...         6.1359            330000.0\n",
              "4    -119.67     36.33  ...         2.9375             81700.0\n",
              "\n",
              "[5 rows x 9 columns]"
            ]
          },
          "metadata": {
            "tags": []
          },
          "execution_count": 4
        }
      ]
    },
    {
      "cell_type": "markdown",
      "metadata": {
        "id": "h86tPbWpi214",
        "colab_type": "text"
      },
      "source": [
        "Let's inspect the training and testing data to ensure no missing values and each feature has the right data type."
      ]
    },
    {
      "cell_type": "code",
      "metadata": {
        "id": "ybrzWKE7u9Fq",
        "colab_type": "code",
        "colab": {
          "base_uri": "https://localhost:8080/",
          "height": 185
        },
        "outputId": "4c35c393-65b3-4504-896f-947ead0f8ae8"
      },
      "source": [
        "california_train.isna().sum()"
      ],
      "execution_count": 5,
      "outputs": [
        {
          "output_type": "execute_result",
          "data": {
            "text/plain": [
              "longitude             0\n",
              "latitude              0\n",
              "housing_median_age    0\n",
              "total_rooms           0\n",
              "total_bedrooms        0\n",
              "population            0\n",
              "households            0\n",
              "median_income         0\n",
              "median_house_value    0\n",
              "dtype: int64"
            ]
          },
          "metadata": {
            "tags": []
          },
          "execution_count": 5
        }
      ]
    },
    {
      "cell_type": "markdown",
      "metadata": {
        "id": "Nr4wx5qUil3o",
        "colab_type": "text"
      },
      "source": [
        "No missing values in the training data set, let's confirm it has the right data types per feature"
      ]
    },
    {
      "cell_type": "code",
      "metadata": {
        "id": "3ygPwAHgjcLJ",
        "colab_type": "code",
        "colab": {
          "base_uri": "https://localhost:8080/",
          "height": 286
        },
        "outputId": "3b8e4040-4a47-479f-8824-42c1369a02d7"
      },
      "source": [
        "california_train.info()"
      ],
      "execution_count": 6,
      "outputs": [
        {
          "output_type": "stream",
          "text": [
            "<class 'pandas.core.frame.DataFrame'>\n",
            "RangeIndex: 17000 entries, 0 to 16999\n",
            "Data columns (total 9 columns):\n",
            " #   Column              Non-Null Count  Dtype  \n",
            "---  ------              --------------  -----  \n",
            " 0   longitude           17000 non-null  float64\n",
            " 1   latitude            17000 non-null  float64\n",
            " 2   housing_median_age  17000 non-null  float64\n",
            " 3   total_rooms         17000 non-null  float64\n",
            " 4   total_bedrooms      17000 non-null  float64\n",
            " 5   population          17000 non-null  float64\n",
            " 6   households          17000 non-null  float64\n",
            " 7   median_income       17000 non-null  float64\n",
            " 8   median_house_value  17000 non-null  float64\n",
            "dtypes: float64(9)\n",
            "memory usage: 1.2 MB\n"
          ],
          "name": "stdout"
        }
      ]
    },
    {
      "cell_type": "markdown",
      "metadata": {
        "id": "dDVQG2wpjnXc",
        "colab_type": "text"
      },
      "source": [
        "Asesome! all data types have the right values. Let's do so for the Test data"
      ]
    },
    {
      "cell_type": "code",
      "metadata": {
        "id": "nf-9CdqqjuPQ",
        "colab_type": "code",
        "colab": {
          "base_uri": "https://localhost:8080/",
          "height": 185
        },
        "outputId": "4ab8216d-0b1d-438d-dae3-190baafe685c"
      },
      "source": [
        "california_test.isna().sum()"
      ],
      "execution_count": 7,
      "outputs": [
        {
          "output_type": "execute_result",
          "data": {
            "text/plain": [
              "longitude             0\n",
              "latitude              0\n",
              "housing_median_age    0\n",
              "total_rooms           0\n",
              "total_bedrooms        0\n",
              "population            0\n",
              "households            0\n",
              "median_income         0\n",
              "median_house_value    0\n",
              "dtype: int64"
            ]
          },
          "metadata": {
            "tags": []
          },
          "execution_count": 7
        }
      ]
    },
    {
      "cell_type": "code",
      "metadata": {
        "id": "TdpF9v8_j1P9",
        "colab_type": "code",
        "colab": {
          "base_uri": "https://localhost:8080/",
          "height": 286
        },
        "outputId": "27c78c8a-d698-4c95-ed7f-498e32069f4a"
      },
      "source": [
        "california_test.info()"
      ],
      "execution_count": 8,
      "outputs": [
        {
          "output_type": "stream",
          "text": [
            "<class 'pandas.core.frame.DataFrame'>\n",
            "RangeIndex: 3000 entries, 0 to 2999\n",
            "Data columns (total 9 columns):\n",
            " #   Column              Non-Null Count  Dtype  \n",
            "---  ------              --------------  -----  \n",
            " 0   longitude           3000 non-null   float64\n",
            " 1   latitude            3000 non-null   float64\n",
            " 2   housing_median_age  3000 non-null   float64\n",
            " 3   total_rooms         3000 non-null   float64\n",
            " 4   total_bedrooms      3000 non-null   float64\n",
            " 5   population          3000 non-null   float64\n",
            " 6   households          3000 non-null   float64\n",
            " 7   median_income       3000 non-null   float64\n",
            " 8   median_house_value  3000 non-null   float64\n",
            "dtypes: float64(9)\n",
            "memory usage: 211.1 KB\n"
          ],
          "name": "stdout"
        }
      ]
    },
    {
      "cell_type": "markdown",
      "metadata": {
        "id": "q9r8lSqDS4Mt",
        "colab_type": "text"
      },
      "source": [
        "<h4><b>2.1: Splitting and Re-shaping the data:</b></h4> \n",
        "\n",
        "So let's split the training and testing sets into sub train and test sets"
      ]
    },
    {
      "cell_type": "code",
      "metadata": {
        "id": "3owRvIpLTGvA",
        "colab_type": "code",
        "colab": {
          "base_uri": "https://localhost:8080/",
          "height": 50
        },
        "outputId": "c84dc4c2-1c99-47a4-fbe0-2f8ec0789324"
      },
      "source": [
        "# First let's make copies of the training and testing sets as numpy arrays\n",
        "train_arr = california_train.values\n",
        "test_arr = california_test.values\n",
        "\n",
        "# Next, let's create the features and labels for both training and testing sets.\n",
        "x_train, y_train = train_arr[:,:-1], train_arr[:,-1]\n",
        "x_test, y_test = test_arr[:,:-1], test_arr[:,-1]\n",
        "\n",
        "# Let's print the shapes of the training and testing labels\n",
        "print(f'x_train shape is:- {x_train.shape} and y_train shape is {y_train.shape}.')\n",
        "print(f'x_test shape is:- {x_test.shape} and y_test shape is {y_test.shape}.')"
      ],
      "execution_count": 9,
      "outputs": [
        {
          "output_type": "stream",
          "text": [
            "x_train shape is:- (17000, 8) and y_train shape is (17000,).\n",
            "x_test shape is:- (3000, 8) and y_test shape is (3000,).\n"
          ],
          "name": "stdout"
        }
      ]
    },
    {
      "cell_type": "markdown",
      "metadata": {
        "id": "sFEkCwhBZRkT",
        "colab_type": "text"
      },
      "source": [
        "Next, let's reshape the training and testing sets to become a transpose of the current shape, but making sure we don't have rank-1 arrays in the process"
      ]
    },
    {
      "cell_type": "code",
      "metadata": {
        "id": "pmSaGA-HT41l",
        "colab_type": "code",
        "colab": {
          "base_uri": "https://localhost:8080/",
          "height": 50
        },
        "outputId": "8c119b39-aa9e-419f-8ff0-84240affd1ab"
      },
      "source": [
        "x_train = x_train.reshape(x_train.shape[0], -1).T\n",
        "y_train = y_train.reshape(y_train.shape[0], -1).T\n",
        "x_test = x_test.reshape(x_test.shape[0], -1).T\n",
        "y_test = y_test.reshape(y_test.shape[0], -1).T\n",
        "\n",
        "# Let's print out the shapes again\n",
        "print(f'x_train shape is:- {x_train.shape} and y_train shape is {y_train.shape}.')\n",
        "print(f'x_test shape is:- {x_test.shape} and y_test shape is {y_test.shape}.')"
      ],
      "execution_count": 10,
      "outputs": [
        {
          "output_type": "stream",
          "text": [
            "x_train shape is:- (8, 17000) and y_train shape is (1, 17000).\n",
            "x_test shape is:- (8, 3000) and y_test shape is (1, 3000).\n"
          ],
          "name": "stdout"
        }
      ]
    },
    {
      "cell_type": "markdown",
      "metadata": {
        "id": "_XC37HNiagH6",
        "colab_type": "text"
      },
      "source": [
        "\n",
        "\n",
        "<h4><b>2.2: Feature Normalization:</b></h4>\n",
        "\n",
        "Let's normalize the training sets. Let's use the Z-Score or standard score normalization. Let's define a Z_score method\n"
      ]
    },
    {
      "cell_type": "code",
      "metadata": {
        "id": "u5f29Q5Da29k",
        "colab_type": "code",
        "colab": {}
      },
      "source": [
        "def Z_score(x):\n",
        "    \"\"\"Compute z_score of a distribution.\n",
        "\n",
        "    @param:\n",
        "    x is an array or dataframe of ints or floats\n",
        "\n",
        "    @Return:\n",
        "    Returns z_score normalisation applied to x\n",
        "    \"\"\"\n",
        "    mean = np.mean(x)\n",
        "    std = np.std(x)\n",
        "    zee_score = (x - mean) / std\n",
        "    \n",
        "    return zee_score"
      ],
      "execution_count": 11,
      "outputs": []
    },
    {
      "cell_type": "markdown",
      "metadata": {
        "id": "6oPZlBw_m5Sr",
        "colab_type": "text"
      },
      "source": [
        "Now let's apply the z_score normalisation to the training sets"
      ]
    },
    {
      "cell_type": "code",
      "metadata": {
        "id": "tDdUxS6JfP9x",
        "colab_type": "code",
        "colab": {
          "base_uri": "https://localhost:8080/",
          "height": 50
        },
        "outputId": "2dd2ef68-50ca-497c-d190-c1dbfa7ef24e"
      },
      "source": [
        "x_train_norm = np.apply_along_axis(Z_score, 1, x_train)\n",
        "x_test_norm = np.apply_along_axis(Z_score, 1, x_test)\n",
        "\n",
        "# Let's confirm they still have the same shape\n",
        "print(x_train_norm.shape == x_train.shape)\n",
        "print(x_test_norm.shape == x_test.shape)"
      ],
      "execution_count": 12,
      "outputs": [
        {
          "output_type": "stream",
          "text": [
            "True\n",
            "True\n"
          ],
          "name": "stdout"
        }
      ]
    },
    {
      "cell_type": "code",
      "metadata": {
        "id": "lLx3bpEKoLzx",
        "colab_type": "code",
        "colab": {
          "base_uri": "https://localhost:8080/",
          "height": 185
        },
        "outputId": "98b0fdb6-669f-4b27-f32e-6b9828c49246"
      },
      "source": [
        "# Let's see the first few elements of the x_train_norm array\n",
        "x_train_norm[:5]"
      ],
      "execution_count": 13,
      "outputs": [
        {
          "output_type": "execute_result",
          "data": {
            "text/plain": [
              "array([[ 2.619365  ,  2.53956878,  2.4946834 , ..., -2.36291168,\n",
              "        -2.36291168, -2.387848  ],\n",
              "       [-0.67152023, -0.57326437, -0.90546278, ...,  2.90780067,\n",
              "         2.88908527,  2.29955006],\n",
              "       [-1.07967114, -0.76187201, -0.92077158, ..., -0.92077158,\n",
              "        -0.76187201,  1.85997083],\n",
              "       [ 1.36169494,  2.29660752, -0.88246225, ...,  0.01529238,\n",
              "         0.01299867, -0.377848  ],\n",
              "       [ 1.76420407,  3.23044127, -0.86695622, ..., -0.01995512,\n",
              "         0.02986848, -0.56801465]])"
            ]
          },
          "metadata": {
            "tags": []
          },
          "execution_count": 13
        }
      ]
    },
    {
      "cell_type": "code",
      "metadata": {
        "id": "5u7M5mT0phOY",
        "colab_type": "code",
        "colab": {}
      },
      "source": [
        ""
      ],
      "execution_count": 13,
      "outputs": []
    },
    {
      "cell_type": "markdown",
      "metadata": {
        "id": "-NKzfNoWkXS8",
        "colab_type": "text"
      },
      "source": [
        "## **PART 3: Intro to Building a Neural Network From Scratch:**"
      ]
    },
    {
      "cell_type": "markdown",
      "metadata": {
        "id": "KgfjQa_wRZFe",
        "colab_type": "text"
      },
      "source": [
        "**Linear Regression with a Neural Network mindset:**\n",
        "\n",
        "I will build a linear regression classifier as a Neural Network to predict housing prices\n",
        "\n",
        "Steps Include:\n",
        "\n",
        "1. Do not use loops (for/while) unless absolutely necessary\n",
        "2. Build the general architecture of a learning algorithm, including:\n",
        "Initializing parameters\n",
        "3. Calculate the cost function and its gradient\n",
        "4. Use an optimization algorithm (gradient descent)\n",
        "5. Gather all three functions above into a main model function, in the right order.\n"
      ]
    },
    {
      "cell_type": "markdown",
      "metadata": {
        "id": "WQbnrsbsrnvw",
        "colab_type": "text"
      },
      "source": [
        "<h4><b>Mathematical expression of the algorithm:</b></h4>\n",
        "\n",
        "For one example $x^{(i)}$:$$z^{(i)} = w^T x^{(i)} + b $$$$\\hat{y}^{(i)} = a^{(i)} = (z^{(i)})$$\n",
        "\n",
        "The cost is then computed by summing over all training examples:$$ J = \\frac{1}{m} \\sum_{i=1}^m \\mathcal{L}(a^{(i)}, y^{(i)})$$\n",
        "\n",
        "Key steps: In this exercise, we will carry out the following steps:\n",
        "\n",
        "- Initialize the parameters of the model\n",
        "- Learn the parameters for the model by minimizing the cost  \n",
        "- Use the learned parameters to make predictions (on the test set)\n",
        "- Analyse the results and conclude"
      ]
    },
    {
      "cell_type": "code",
      "metadata": {
        "id": "fHSabxdgLWaR",
        "colab_type": "code",
        "colab": {}
      },
      "source": [
        ""
      ],
      "execution_count": 13,
      "outputs": []
    },
    {
      "cell_type": "markdown",
      "metadata": {
        "id": "t-yU0DxA4Vw0",
        "colab_type": "text"
      },
      "source": [
        "<h2><b>Part 4: Building the parts of our algorithm</b></h2>\n",
        "\n",
        "The main steps for building a Neural Network are:\n",
        "\n",
        "1. Define the model structure (such as number of input features)\n",
        "2. Initialize the model's parameters\n",
        "3. Loop:\n",
        ">>1. Calculate current loss (forward propagation)\n",
        ">>2. Calculate current gradient (backward propagation)\n",
        ">>3. Update parameters (gradient descent)\n",
        "\n",
        "I will build 1-3 separately and integrate them into one function called a  model()."
      ]
    },
    {
      "cell_type": "markdown",
      "metadata": {
        "id": "FxxMq6y96_lQ",
        "colab_type": "text"
      },
      "source": [
        "<h4><b>4.1: Initializing Parameters:</b></h4> \n",
        "\n",
        "We initialise the weights and bias parameters. The weights should take the shape of `(num_features, 1)`, while bias should be initialised to `0`. "
      ]
    },
    {
      "cell_type": "code",
      "metadata": {
        "id": "QklvH4bl9iMz",
        "colab_type": "code",
        "colab": {}
      },
      "source": [
        "def initialise_params(x):\n",
        "    \"\"\"\n",
        "    This function creates a vector of zeros of shape (x.shape[0], 1) for w and initializes b to 0.\n",
        "    \n",
        "    Argument:\n",
        "    x -- an array of features\n",
        "    \n",
        "    Returns:\n",
        "    w -- initialized vector of shape np.zeros((x.shape[0], 1))\n",
        "    b -- initialized scalar (corresponds to the bias)\n",
        "    \"\"\"\n",
        "    dim = x.shape[0]\n",
        "\n",
        "    w = np.zeros((dim,1)) * 0.01\n",
        "    \n",
        "    b = 0\n",
        "\n",
        "    # Let's run some assertions on the shape of w and type of b.\n",
        "    assert(w.shape == (dim, 1))\n",
        "    assert(isinstance(b, float) or isinstance(b, int))\n",
        "    \n",
        "    return w, b"
      ],
      "execution_count": 14,
      "outputs": []
    },
    {
      "cell_type": "markdown",
      "metadata": {
        "id": "nYrxQgdP_s2l",
        "colab_type": "text"
      },
      "source": [
        "Let's test the initialise params function.\n",
        "We shall create a random array of shape (5, 3), then apply the initialise_params function to it. We should get w of zeros of shape (5,1) and b of 0."
      ]
    },
    {
      "cell_type": "code",
      "metadata": {
        "id": "UgmXERcp-rDw",
        "colab_type": "code",
        "colab": {
          "base_uri": "https://localhost:8080/",
          "height": 101
        },
        "outputId": "17a5094b-35b8-413a-890f-87d0b53862f1"
      },
      "source": [
        "t = np.random.rand(5,3)\n",
        "t"
      ],
      "execution_count": 15,
      "outputs": [
        {
          "output_type": "execute_result",
          "data": {
            "text/plain": [
              "array([[0.48701019, 0.07943289, 0.86045538],\n",
              "       [0.58768509, 0.66253905, 0.01613931],\n",
              "       [0.49249392, 0.55229086, 0.11438473],\n",
              "       [0.97534078, 0.68379603, 0.19123258],\n",
              "       [0.42522378, 0.29344473, 0.72309735]])"
            ]
          },
          "metadata": {
            "tags": []
          },
          "execution_count": 15
        }
      ]
    },
    {
      "cell_type": "code",
      "metadata": {
        "id": "YrZidNKV_fs8",
        "colab_type": "code",
        "colab": {
          "base_uri": "https://localhost:8080/",
          "height": 168
        },
        "outputId": "eb7ed4d3-674c-44df-fe5a-50aaa4ea515c"
      },
      "source": [
        "w = initialise_params(t)[0]\n",
        "b = initialise_params(t)[1]\n",
        "\n",
        "# Let's see w and b\n",
        "print(f'w =\\n{w}\\n\\nb =\\n{b}')"
      ],
      "execution_count": 16,
      "outputs": [
        {
          "output_type": "stream",
          "text": [
            "w =\n",
            "[[0.]\n",
            " [0.]\n",
            " [0.]\n",
            " [0.]\n",
            " [0.]]\n",
            "\n",
            "b =\n",
            "0\n"
          ],
          "name": "stdout"
        }
      ]
    },
    {
      "cell_type": "markdown",
      "metadata": {
        "id": "wg5hXKPHDH6A",
        "colab_type": "text"
      },
      "source": [
        "Let's confirm that t.shape[0] == w.shape[0]"
      ]
    },
    {
      "cell_type": "code",
      "metadata": {
        "id": "GH3QF3zG_jDv",
        "colab_type": "code",
        "colab": {
          "base_uri": "https://localhost:8080/",
          "height": 34
        },
        "outputId": "abc7b137-9412-4d33-ae20-0fe9ed6fb547"
      },
      "source": [
        "t.shape[0] == w.shape[0]"
      ],
      "execution_count": 17,
      "outputs": [
        {
          "output_type": "execute_result",
          "data": {
            "text/plain": [
              "True"
            ]
          },
          "metadata": {
            "tags": []
          },
          "execution_count": 17
        }
      ]
    },
    {
      "cell_type": "code",
      "metadata": {
        "id": "ULkZPQzvB1J3",
        "colab_type": "code",
        "colab": {
          "base_uri": "https://localhost:8080/",
          "height": 34
        },
        "outputId": "42fabeee-88c7-4dd3-970a-3b97e65e5c34"
      },
      "source": [
        "assert w.shape == (5,1)\n",
        "print('Yes! w.shape == (5,1)')"
      ],
      "execution_count": 18,
      "outputs": [
        {
          "output_type": "stream",
          "text": [
            "Yes! w.shape == (5,1)\n"
          ],
          "name": "stdout"
        }
      ]
    },
    {
      "cell_type": "markdown",
      "metadata": {
        "id": "tu2Gz4k8D3Vw",
        "colab_type": "text"
      },
      "source": [
        "<h4><b>4.2: Forward and Backward Propagation:</b></h4> \n",
        "\n",
        "Now that the parameters are initialized, I can do the \"forward\" and \"backward\" propagation steps for learning the parameters.\n",
        "\n",
        "I need to Implement a function propagate() that computes the cost function and its gradient.\n",
        "\n",
        "Cues:\n",
        "\n",
        "**Forward Propagation:**\n",
        "\n",
        "* I get X\n",
        "* I compute $A = \\sigma(w^T X + b) = (a^{(1)}, a^{(2)}, ..., a^{(m-1)}, a^{(m)})$\n",
        "* I calculate the cost function: $J = -\\frac{1}{m}\\sum_{i=1}^{m}y^{(i)}\\log(a^{(i)})+(1-y^{(i)})\\log(1-a^{(i)})$<br>\n",
        "Here are the two formulas I will be using:\n",
        "\n",
        "$$ \\frac{\\partial J}{\\partial w} = \\frac{1}{m}X(A-Y)^T$$$$ \\frac{\\partial J}{\\partial b} = \\frac{1}{m} \\sum_{i=1}^m (a^{(i)}-y^{(i)})$$"
      ]
    },
    {
      "cell_type": "code",
      "metadata": {
        "id": "cv53ayeYD92P",
        "colab_type": "code",
        "colab": {}
      },
      "source": [
        "def propagate(w, b, X, Y):\n",
        "    \"\"\"\n",
        "    Implement the cost function and its gradient for the propagation explained above\n",
        "\n",
        "    Arguments:\n",
        "    w -- weights, a numpy array of size (num_features, 1)\n",
        "    b -- bias, a scalar \n",
        "    X -- data of size (num_features, num_examples)\n",
        "    Y -- true \"label\" vector (containing the true values of the houses) of size (1, num_examples)\n",
        "\n",
        "    Return:\n",
        "    cost -- negative log-likelihood cost for logistic regression\n",
        "    dw -- gradient of the loss with respect to w, thus same shape as w\n",
        "    db -- gradient of the loss with respect to b, thus same shape as b\n",
        "    \n",
        "    Tips:\n",
        "    - Write your code step by step for the propagation. np.log(), np.dot()\n",
        "    \"\"\"\n",
        "\n",
        "    m = X.shape[1]\n",
        "\n",
        "    # Forward-prop from X to cost..\n",
        "    A = np.dot(w.T, X) + b\n",
        "    \n",
        "    # Now we compute the cost using the mean absolute error\n",
        "    cost = np.divide(np.sum(np.abs(A - Y)), m)\n",
        "\n",
        "\n",
        "    # Backward-prop (to find grads)\n",
        "    dw = np.multiply(1/m, np.dot(X, (A - Y).T))\n",
        "    db = np.multiply(1/m, np.sum(A - Y))\n",
        "\n",
        "    # Let's write some shape assertions\n",
        "    assert(dw.shape == w.shape)\n",
        "    assert(db.dtype == float)\n",
        "    cost = np.squeeze(cost)\n",
        "    assert(cost.shape == ())\n",
        "\n",
        "    grads = {'dw':dw, 'db':db}\n",
        "\n",
        "    return grads, cost"
      ],
      "execution_count": 19,
      "outputs": []
    },
    {
      "cell_type": "markdown",
      "metadata": {
        "id": "0xzEBAETlPN4",
        "colab_type": "text"
      },
      "source": [
        "**Testing:** Let's test the propagate function above with some values"
      ]
    },
    {
      "cell_type": "code",
      "metadata": {
        "id": "7UeS-8wyhTbm",
        "colab_type": "code",
        "colab": {
          "base_uri": "https://localhost:8080/",
          "height": 84
        },
        "outputId": "c70aec49-261a-458c-dcbc-2410d5729df6"
      },
      "source": [
        "w, b, X, Y = np.array([[1.],[2.]]), 2., np.array([[1.,2.,-1.],[3.,4.,-3.2]]), np.array([[1,0,1]])\n",
        "grads, cost = propagate(w, b, X, Y)\n",
        "print (\"dw = \" + str(grads[\"dw\"]))\n",
        "print (\"db = \" + str(grads[\"db\"]))\n",
        "print (\"cost = \" + str(cost))"
      ],
      "execution_count": 20,
      "outputs": [
        {
          "output_type": "stream",
          "text": [
            "dw = [[12.8       ]\n",
            " [30.82666667]]\n",
            "db = 4.533333333333333\n",
            "cost = 8.799999999999999\n"
          ],
          "name": "stdout"
        }
      ]
    },
    {
      "cell_type": "markdown",
      "metadata": {
        "id": "uFP0m86Gh3_l",
        "colab_type": "text"
      },
      "source": [
        "<h4><b>4.3 - Optimization:</b></h4>\n",
        "\n",
        "So, I have initialized the parameters.\n",
        "I have computed a cost function and its gradient.\n",
        "Now I need to update the parameters using gradient descent.\n",
        "\n",
        "\n",
        "The goal is to learn $w$ and $b$ by minimizing the cost function $J$. Therefore... <br>For a parameter $\\theta$, the update rule is $ \\theta = \\theta - \\alpha \\text{ } d\\theta$, where $\\alpha$ is the learning rate."
      ]
    },
    {
      "cell_type": "code",
      "metadata": {
        "id": "IROH2McwkeLH",
        "colab_type": "code",
        "colab": {}
      },
      "source": [
        "def optimize(w, b, X, Y, num_iterations, learning_rate, print_cost = False):\n",
        "    \"\"\"\n",
        "    This function optimizes w and b by running a gradient descent algorithm\n",
        "    \n",
        "    Arguments:\n",
        "    w -- weights, a numpy array of size (num_features, 1)\n",
        "    b -- bias, a scalar\n",
        "    X -- data of shape (num_features, num_examples)\n",
        "    Y -- true \"label\" vector (containing true values of the houses), of shape (1, num_examples)\n",
        "    num_iterations -- number of iterations of the optimization loop\n",
        "    learning_rate -- learning rate of the gradient descent update rule\n",
        "    print_cost -- True to print the loss every 100 steps\n",
        "    \n",
        "    Returns:\n",
        "    params -- dictionary containing the optimized weights w and bias b\n",
        "    grads -- dictionary containing the gradients of the weights and bias with respect to the cost function\n",
        "    costs -- list of all the costs computed during the optimization, this will be used to plot the learning curve.\n",
        "    \n",
        "    Tips:\n",
        "    I basically need to write down two steps and iterate through them:\n",
        "        1) Calculate the cost and the gradient for the current parameters. Use propagate().\n",
        "        2) Update the parameters using gradient descent rule for w and b.\n",
        "    \"\"\"\n",
        "\n",
        "    costs = []\n",
        "\n",
        "    for i in range(num_iterations):\n",
        "        grads, cost = propagate(w,b,X,Y)\n",
        "        # retrieve derivatives from grads\n",
        "        dw = grads['dw']\n",
        "        db = grads['db']\n",
        "\n",
        "        # update w and b based on derivatives\n",
        "        w = w - learning_rate * dw\n",
        "        b = b - learning_rate * db\n",
        "\n",
        "        # Now let's record the costs per 100 iterations\n",
        "        if i % 100 == 0:\n",
        "            costs.append(cost)\n",
        "\n",
        "        # Print the cost every 100 training iterations\n",
        "        if print_cost and i % 100 == 0:\n",
        "            print (\"Cost after iteration %i: %f\" %(i, cost))\n",
        "\n",
        "    params = {\"w\": w,\n",
        "              \"b\": b}\n",
        "    \n",
        "    grads = {\"dw\": dw,\n",
        "             \"db\": db}\n",
        "    \n",
        "    return params, grads, costs"
      ],
      "execution_count": 21,
      "outputs": []
    },
    {
      "cell_type": "markdown",
      "metadata": {
        "id": "bVmXC3GosepS",
        "colab_type": "text"
      },
      "source": [
        "**Testing:** Using the same values from the last test, let's test the optimize function."
      ]
    },
    {
      "cell_type": "code",
      "metadata": {
        "id": "s-6iZ3eVq6en",
        "colab_type": "code",
        "colab": {
          "base_uri": "https://localhost:8080/",
          "height": 118
        },
        "outputId": "62946345-1c5a-4b40-f960-98069221c002"
      },
      "source": [
        "params, grads, costs = optimize(w, b, X, Y, num_iterations= 100, learning_rate = 0.009, print_cost = False)\n",
        "\n",
        "print (\"w = \" + str(params[\"w\"]))\n",
        "print (\"b = \" + str(params[\"b\"]))\n",
        "print (\"dw = \" + str(grads[\"dw\"]))\n",
        "print (\"db = \" + str(grads[\"db\"]))"
      ],
      "execution_count": 22,
      "outputs": [
        {
          "output_type": "stream",
          "text": [
            "w = [[-0.04675219]\n",
            " [-0.12676061]]\n",
            "b = 1.223758731602527\n",
            "dw = [[ 0.12274692]\n",
            " [-0.09406359]]\n",
            "db = 0.36833971156600487\n"
          ],
          "name": "stdout"
        }
      ]
    },
    {
      "cell_type": "markdown",
      "metadata": {
        "id": "JzlhnU6CtXiz",
        "colab_type": "text"
      },
      "source": [
        "**Exercise:** The previous function computes the learned $w$ and $b$ values. Therefore I can use these to predict the labels for a dataset X. in fact, let me define a predict() function. This basically takes one step:\n",
        "\n",
        "Calculate $\\hat{Y} = A = (w^T X + b)$"
      ]
    },
    {
      "cell_type": "code",
      "metadata": {
        "id": "j61qHY62tcI6",
        "colab_type": "code",
        "colab": {}
      },
      "source": [
        "def predict(w, b, X):\n",
        "    '''\n",
        "    Predict the label for a given data set using learned logistic regression parameters (w, b)\n",
        "    \n",
        "    Arguments:\n",
        "    w -- weights, a numpy array of size (num_features , 1)\n",
        "    b -- bias, a scalar\n",
        "    X -- data of size (num_features , num_examples)\n",
        "    \n",
        "    Returns:\n",
        "    Y_prediction -- a numpy array (vector) containing all predictions for the examples in X\n",
        "    '''\n",
        "    \n",
        "    m = X.shape[1]\n",
        "    w = w.reshape(X.shape[0], 1)\n",
        "    \n",
        "    # Compute vector \"A\" predicting the probabilities of the true label Y\n",
        "    A = np.dot(w.T,X)+b\n",
        "    \n",
        "    # Let's write some assert statements\n",
        "    assert(A.shape == (1, m))\n",
        "    \n",
        "    return A"
      ],
      "execution_count": 23,
      "outputs": []
    },
    {
      "cell_type": "markdown",
      "metadata": {
        "id": "XncA4SXqwGUw",
        "colab_type": "text"
      },
      "source": [
        "**Testing:** Testing the predict function above"
      ]
    },
    {
      "cell_type": "code",
      "metadata": {
        "id": "aAv_L4S1vkIx",
        "colab_type": "code",
        "colab": {
          "base_uri": "https://localhost:8080/",
          "height": 34
        },
        "outputId": "3d1d4659-9738-49c7-af4d-cb8487a3378d"
      },
      "source": [
        "w = np.array([[0.1124579],[0.23106775]])\n",
        "b = -0.3\n",
        "X = np.array([[1.,-1.1,-3.2],[1.2,2.,0.1]])\n",
        "print (\"predictions = \" + str(predict(w, b, X)))"
      ],
      "execution_count": 24,
      "outputs": [
        {
          "output_type": "stream",
          "text": [
            "predictions = [[ 0.0897392   0.03843181 -0.6367585 ]]\n"
          ],
          "name": "stdout"
        }
      ]
    },
    {
      "cell_type": "code",
      "metadata": {
        "id": "LdhwWQ3EwVvL",
        "colab_type": "code",
        "colab": {}
      },
      "source": [
        ""
      ],
      "execution_count": 24,
      "outputs": []
    },
    {
      "cell_type": "markdown",
      "metadata": {
        "id": "nO6MRKmYwWXu",
        "colab_type": "text"
      },
      "source": [
        "<h2><b>Part 5: Merge all functions into a model:</b></h2>\n",
        "\n",
        "Putting it all together... All the building blocks (functions implemented in the previous parts) together, in the right order.\n",
        "\n",
        "I will Implement the model function. Using the following notations:\n",
        "\n",
        "- y_prediction_test for my predictions on the test set\n",
        "- y_prediction_train for my predictions on the train set\n",
        "- w, costs, grads for the outputs of optimize()"
      ]
    },
    {
      "cell_type": "code",
      "metadata": {
        "id": "ih3LoePQwcOa",
        "colab_type": "code",
        "colab": {}
      },
      "source": [
        "def model(X_train, Y_train, X_test, Y_test, num_iterations = 2000, learning_rate = 0.5, print_cost = False):\n",
        "    \"\"\"\n",
        "    Builds the logistic regression model by calling the functions implemented previously\n",
        "    \n",
        "    Arguments:\n",
        "    X_train -- training set represented by a numpy array of shape (num_features, training_examples)\n",
        "    Y_train -- training labels represented by a numpy array (vector) of shape (1, training_examples)\n",
        "    X_test -- test set represented by a numpy array of shape (num_features, testing_examples)\n",
        "    Y_test -- test labels represented by a numpy array (vector) of shape (1, testing_examples)\n",
        "    num_iterations -- hyperparameter representing the number of iterations to optimize the parameters\n",
        "    learning_rate -- hyperparameter representing the learning rate used in the update rule of optimize()\n",
        "    print_cost -- Set to true to print the cost every 100 iterations\n",
        "    \n",
        "    Returns:\n",
        "    d -- dictionary containing information about the model.\n",
        "    \"\"\"\n",
        "    \n",
        "    # initialize parameters with zeros\n",
        "    w, b = np.zeros((X_train.shape[0], 1)), 0\n",
        "\n",
        "    # Gradient descent\n",
        "    parameters, grads, costs = optimize(w, b, X_train, Y_train, num_iterations, learning_rate, print_cost = True)\n",
        "    \n",
        "    # Retrieve parameters w and b from dictionary \"parameters\"\n",
        "    w = parameters[\"w\"]\n",
        "    b = parameters[\"b\"]\n",
        "    \n",
        "    # Predict test/train set examples\n",
        "    Y_prediction_test = predict(w, b, X_test)\n",
        "    Y_prediction_train = predict(w, b, X_train)\n",
        "\n",
        "    d = {\"costs\": costs,\n",
        "         \"Y_prediction_test\": Y_prediction_test, \n",
        "         \"Y_prediction_train\" : Y_prediction_train, \n",
        "         \"w\" : w, \n",
        "         \"b\" : b,\n",
        "         \"learning_rate\" : learning_rate,\n",
        "         \"num_iterations\": num_iterations}\n",
        "    \n",
        "    return d"
      ],
      "execution_count": 25,
      "outputs": []
    },
    {
      "cell_type": "markdown",
      "metadata": {
        "id": "eejBkMOOzcRj",
        "colab_type": "text"
      },
      "source": [
        "<h3><b>5.1 Predictions</b></h3>"
      ]
    },
    {
      "cell_type": "markdown",
      "metadata": {
        "id": "hhTVBP6czYWi",
        "colab_type": "text"
      },
      "source": [
        "Finally, let's predict the housing prices using the training and testing data sets we normalised earlier. Passing these to the model we just assembled above. But first, let's re-confirm the shapes of these data"
      ]
    },
    {
      "cell_type": "code",
      "metadata": {
        "id": "LwvmF_3K0C6M",
        "colab_type": "code",
        "colab": {
          "base_uri": "https://localhost:8080/",
          "height": 50
        },
        "outputId": "2e25b649-c5f6-48c4-f14e-d7b4174def26"
      },
      "source": [
        "print(f'x_train_norm shape is {x_train_norm.shape}, y_train shape is {y_train.shape}')\n",
        "print(f'x_test_norm shape is {x_test_norm.shape}, y_test shape is {y_test.shape}')"
      ],
      "execution_count": 26,
      "outputs": [
        {
          "output_type": "stream",
          "text": [
            "x_train_norm shape is (8, 17000), y_train shape is (1, 17000)\n",
            "x_test_norm shape is (8, 3000), y_test shape is (1, 3000)\n"
          ],
          "name": "stdout"
        }
      ]
    },
    {
      "cell_type": "code",
      "metadata": {
        "id": "TkhqwTYGzEla",
        "colab_type": "code",
        "colab": {
          "base_uri": "https://localhost:8080/",
          "height": 353
        },
        "outputId": "a6984ec2-7064-4319-bd0f-c76d79ef033d"
      },
      "source": [
        "d = model(x_train_norm, y_train, x_test_norm, y_test, num_iterations = 2000, learning_rate = 0.005, print_cost = True)"
      ],
      "execution_count": 27,
      "outputs": [
        {
          "output_type": "stream",
          "text": [
            "Cost after iteration 0: 207300.912353\n",
            "Cost after iteration 100: 125821.848848\n",
            "Cost after iteration 200: 81771.408813\n",
            "Cost after iteration 300: 63648.663785\n",
            "Cost after iteration 400: 57563.991493\n",
            "Cost after iteration 500: 55753.955521\n",
            "Cost after iteration 600: 55214.119695\n",
            "Cost after iteration 700: 55019.088525\n",
            "Cost after iteration 800: 54863.793900\n",
            "Cost after iteration 900: 54680.911681\n",
            "Cost after iteration 1000: 54472.779383\n",
            "Cost after iteration 1100: 54247.953898\n",
            "Cost after iteration 1200: 54018.796698\n",
            "Cost after iteration 1300: 53792.923362\n",
            "Cost after iteration 1400: 53576.550766\n",
            "Cost after iteration 1500: 53371.085142\n",
            "Cost after iteration 1600: 53177.552701\n",
            "Cost after iteration 1700: 52996.553391\n",
            "Cost after iteration 1800: 52827.641276\n",
            "Cost after iteration 1900: 52671.857265\n"
          ],
          "name": "stdout"
        }
      ]
    },
    {
      "cell_type": "markdown",
      "metadata": {
        "id": "vJ8WW7qBem6I",
        "colab_type": "text"
      },
      "source": [
        "<h3><b>5.2 Visualizing The Training Costs</b></h3>"
      ]
    },
    {
      "cell_type": "code",
      "metadata": {
        "id": "cYF2NDKE2oij",
        "colab_type": "code",
        "colab": {
          "base_uri": "https://localhost:8080/",
          "height": 295
        },
        "outputId": "abce7827-2226-4495-840e-18f0522e2024"
      },
      "source": [
        "# Plot learning curve (with costs)\n",
        "costs = np.squeeze(d['costs'])\n",
        "plt.plot(costs)\n",
        "plt.ylabel('cost')\n",
        "plt.xlabel('iterations (per hundreds)')\n",
        "plt.title(\"Learning rate =\" + str(d[\"learning_rate\"]))\n",
        "plt.show()"
      ],
      "execution_count": 28,
      "outputs": [
        {
          "output_type": "display_data",
          "data": {
            "image/png": "[encoded data removed]",
            "text/plain": [
              "<Figure size 432x288 with 1 Axes>"
            ]
          },
          "metadata": {
            "tags": [],
            "needs_background": "light"
          }
        }
      ]
    },
    {
      "cell_type": "markdown",
      "metadata": {
        "id": "3yofVKMoW_rG",
        "colab_type": "text"
      },
      "source": [
        "<h3><b>5.3 Evaluations</b></h3>"
      ]
    },
    {
      "cell_type": "markdown",
      "metadata": {
        "id": "NcJ__JnkXQuV",
        "colab_type": "text"
      },
      "source": [
        "I will evaluate the model's performance using the Mean Absolute Error (MAE), Mean-Squared-Error(MSE) and Root-Mean-Squared-Error(RMSE)"
      ]
    },
    {
      "cell_type": "markdown",
      "metadata": {
        "id": "UR2Dddk-XmaT",
        "colab_type": "text"
      },
      "source": [
        "**Mean Absolute Error (MAE):**"
      ]
    },
    {
      "cell_type": "code",
      "metadata": {
        "id": "c7LKQtsnRvgB",
        "colab_type": "code",
        "colab": {}
      },
      "source": [
        "def mean_absolute_error(y_true, y_pred):\n",
        "\n",
        "    abs_error = np.abs(y_true - y_pred)\n",
        "    sum_abs_error = np.sum(abs_error)\n",
        "    mae = sum_abs_error / y_true.shape[1]\n",
        "\n",
        "    return mae"
      ],
      "execution_count": 29,
      "outputs": []
    },
    {
      "cell_type": "markdown",
      "metadata": {
        "id": "jMGpmPQIVt9I",
        "colab_type": "text"
      },
      "source": [
        "Let's see the Mean Absolute Errors"
      ]
    },
    {
      "cell_type": "code",
      "metadata": {
        "id": "KUbOOX4EVOnq",
        "colab_type": "code",
        "colab": {
          "base_uri": "https://localhost:8080/",
          "height": 34
        },
        "outputId": "14466bc5-3fee-4f76-e75d-0efe7bc08b8a"
      },
      "source": [
        "print(f'MAE for train set is {np.round(mean_absolute_error(y_train, d[\"Y_prediction_train\"]),2)} and MAE for test set is {np.round(mean_absolute_error(y_test, d[\"Y_prediction_test\"]),2)}')"
      ],
      "execution_count": 30,
      "outputs": [
        {
          "output_type": "stream",
          "text": [
            "MAE for train set is 52526.75 and MAE for test set is 52255.09\n"
          ],
          "name": "stdout"
        }
      ]
    },
    {
      "cell_type": "markdown",
      "metadata": {
        "id": "4XF7qS6eXtyz",
        "colab_type": "text"
      },
      "source": [
        "**2. Mean Squared Error (MSE):**"
      ]
    },
    {
      "cell_type": "code",
      "metadata": {
        "id": "fvdZX995Xzf0",
        "colab_type": "code",
        "colab": {}
      },
      "source": [
        "def mean_squared_error(y_true, y_pred):\n",
        "\n",
        "    squared_error = (y_true - y_pred)**2\n",
        "    sum_squared_error = np.sum(squared_error)\n",
        "    mse = sum_squared_error / y_true.shape[1]\n",
        "\n",
        "    return mse"
      ],
      "execution_count": 31,
      "outputs": []
    },
    {
      "cell_type": "markdown",
      "metadata": {
        "id": "R7zv7jzafHsH",
        "colab_type": "text"
      },
      "source": [
        "Let's see the Mean Squared Errors..."
      ]
    },
    {
      "cell_type": "code",
      "metadata": {
        "id": "jAtybVZ3Yq8y",
        "colab_type": "code",
        "colab": {
          "base_uri": "https://localhost:8080/",
          "height": 34
        },
        "outputId": "78845e0f-8b74-45d8-b3ee-9b4c93efb536"
      },
      "source": [
        "print(f'MSE for train set is {np.round(mean_squared_error(y_train, d[\"Y_prediction_train\"]),2)} and MSE for test set is {np.round(mean_squared_error(y_test, d[\"Y_prediction_test\"]),2)}')"
      ],
      "execution_count": 32,
      "outputs": [
        {
          "output_type": "stream",
          "text": [
            "MSE for train set is 5132743901.45 and MSE for test set is 5149507690.93\n"
          ],
          "name": "stdout"
        }
      ]
    },
    {
      "cell_type": "markdown",
      "metadata": {
        "id": "HxqXgg1aa7bN",
        "colab_type": "text"
      },
      "source": [
        "3. **Root Mean Squared Error (RMSE):**"
      ]
    },
    {
      "cell_type": "code",
      "metadata": {
        "id": "c7HKsmAFZWDR",
        "colab_type": "code",
        "colab": {}
      },
      "source": [
        "def root_mean_squared_error(y_true, y_pred):\n",
        "    rmse = np.sqrt(mean_squared_error(y_true, y_pred))\n",
        "\n",
        "    return rmse"
      ],
      "execution_count": 33,
      "outputs": []
    },
    {
      "cell_type": "markdown",
      "metadata": {
        "id": "6H1BcOsgfWVG",
        "colab_type": "text"
      },
      "source": [
        "Let's see the Root Mean Squared Errors..."
      ]
    },
    {
      "cell_type": "code",
      "metadata": {
        "id": "c5nxm3OGbdQp",
        "colab_type": "code",
        "colab": {
          "base_uri": "https://localhost:8080/",
          "height": 34
        },
        "outputId": "2b82f4fa-573e-4c7b-e9db-6edbb2f6f64d"
      },
      "source": [
        "print(f'RMSE for train set is {np.round(root_mean_squared_error(y_train, d[\"Y_prediction_train\"]),2)} and RMSE for test set is {np.round(root_mean_squared_error(y_test, d[\"Y_prediction_test\"]),2)}')"
      ],
      "execution_count": 34,
      "outputs": [
        {
          "output_type": "stream",
          "text": [
            "RMSE for train set is 71643.17 and RMSE for test set is 71760.07\n"
          ],
          "name": "stdout"
        }
      ]
    },
    {
      "cell_type": "markdown",
      "metadata": {
        "id": "lNwAEZHmcAe2",
        "colab_type": "text"
      },
      "source": [
        "<h4><b>5.4 Compare the RMSE to the Range of the Target Variable</b></h4>"
      ]
    },
    {
      "cell_type": "code",
      "metadata": {
        "id": "Fu1F3v2KcMMC",
        "colab_type": "code",
        "colab": {}
      },
      "source": [
        "def rmse_range(y_true, y_pred):\n",
        "\n",
        "    # Find range of the target variable\n",
        "    target_range = np.ptp(y_true, axis=1)[0]\n",
        "\n",
        "    # Find RMSE\n",
        "    rmse = root_mean_squared_error(y_true, y_pred)\n",
        "\n",
        "    # RMSE as percent of target range\n",
        "    rmse_pct_range = (rmse / target_range) * 100\n",
        "\n",
        "    return rmse_pct_range"
      ],
      "execution_count": 35,
      "outputs": []
    },
    {
      "cell_type": "code",
      "metadata": {
        "id": "UxlYsbgcco1b",
        "colab_type": "code",
        "colab": {
          "base_uri": "https://localhost:8080/",
          "height": 34
        },
        "outputId": "e34bb37d-2c0a-443a-ac0a-1c25527aa857"
      },
      "source": [
        "print(f'RMSE_target range for train set is {np.round(rmse_range(y_train, d[\"Y_prediction_train\"]),2)} and RMSE_target_range for test set is {np.round(rmse_range(y_test, d[\"Y_prediction_test\"]),2)}')"
      ],
      "execution_count": 36,
      "outputs": [
        {
          "output_type": "stream",
          "text": [
            "RMSE_target range for train set is 14.77 and RMSE_target_range for test set is 15.03\n"
          ],
          "name": "stdout"
        }
      ]
    },
    {
      "cell_type": "markdown",
      "metadata": {
        "id": "4tmpSBj7hF3n",
        "colab_type": "text"
      },
      "source": [
        "Next: <br>\n",
        "1. Show a dist plot of the predicted values versus the real values for both training and testing sets. Use the seaborn library if possible\n",
        "2. What can we do to improve results without getting too technical?\n",
        ">>. Let's do some feature selection pre-processing<br>\n",
        ">>. Let's increase the number of iterations... but watch for over-fitting<br>\n",
        ">>. Let's play with the learning rate, like make it gradually reduce as we keep training."
      ]
    },
    {
      "cell_type": "code",
      "metadata": {
        "id": "Bp32tzQpqGS6",
        "colab_type": "code",
        "colab": {
          "base_uri": "https://localhost:8080/",
          "height": 570
        },
        "outputId": "18eea640-335a-4d36-c022-e4b810afa4c2"
      },
      "source": [
        "fig = plt.figure(figsize=(18, 8))\n",
        "sns.set_style('white')\n",
        "plt.suptitle('Distplot and Regplot for Predictions of Linear NN model on Test Data', fontsize=16, y=1.0)\n",
        "\n",
        "ax = fig.add_subplot(121)\n",
        "ax1 = fig.add_subplot(122)\n",
        "\n",
        "# plotting the Distplot\n",
        "sns.distplot(y_test.squeeze(), hist=False, label='Target', color='navy', ax=ax)\n",
        "sns.distplot(d['Y_prediction_test'].squeeze(), hist=False, label='Prediction', color='red', ax=ax)\n",
        "ax.set_xlabel('Housing Prices', fontsize=14)\n",
        "ax.set_title('Distplot showing Prediction VS Actual for our Linear NN Model')\n",
        "\n",
        "# plotting the Regplot\n",
        "sns.regplot(y_test.squeeze(), d['Y_prediction_test'], scatter_kws={\"color\": \"navy\"}, line_kws={\"color\": \"red\" ,'linewidth':3}, ax=ax1)\n",
        "\n",
        "ax1.set_xlabel('Housing Prices', fontsize=14)\n",
        "ax1.set_title('Regplot showing Prediction for our Linear NN Model')\n",
        "\n",
        "plt.show()"
      ],
      "execution_count": 69,
      "outputs": [
        {
          "output_type": "display_data",
          "data": {
            "image/png": "[encoded data removed]",
            "text/plain": [
              "<Figure size 1296x576 with 2 Axes>"
            ]
          },
          "metadata": {
            "tags": []
          }
        }
      ]
    },
    {
      "cell_type": "markdown",
      "metadata": {
        "id": "E5XRcE811kb2",
        "colab_type": "text"
      },
      "source": [
        "Like any linear regression model, let's print out the coefficients (weights and bias) of our Linear Neural Network Model."
      ]
    },
    {
      "cell_type": "code",
      "metadata": {
        "id": "0xvwD4Iiy9N6",
        "colab_type": "code",
        "colab": {
          "base_uri": "https://localhost:8080/",
          "height": 54
        },
        "outputId": "a510c9e6-c8f3-440f-df04-1e841b3b7ba7"
      },
      "source": [
        "print(\"y_hat => bias={} + ({}*long) + ({}*lat) + ({}*medianAge) + ({}*rooms) + ({}*bedrooms) + ({}*population) + ({}*houseHolds) + ({}*medianIncome)'\".format(\n",
        "    np.round(d['b']),\n",
        "    np.round(d['w'][0][0]), \n",
        "    np.round(d['w'][1][0]), \n",
        "    np.round(d['w'][2][0]),\n",
        "    np.round(d['w'][3][0]),\n",
        "    np.round(d['w'][4][0]),\n",
        "    np.round(d['w'][5][0]),\n",
        "    np.round(d['w'][6][0]),\n",
        "    np.round(d['w'][7][0])                                                    \n",
        "))"
      ],
      "execution_count": 86,
      "outputs": [
        {
          "output_type": "stream",
          "text": [
            "y_hat => bias=207292.0 + (-43376.0*long) + (-48694.0*lat) + (20380.0*medianAge) + (-5312.0*rooms) + (22574.0*bedrooms) + (-32472.0*population) + (22631.0*houseHolds) + (79219.0*medianIncome)'\n"
          ],
          "name": "stdout"
        }
      ]
    },
    {
      "cell_type": "markdown",
      "metadata": {
        "id": "fMaRrYDe13Ml",
        "colab_type": "text"
      },
      "source": [
        "From the above weights, we can clearly see the variables that have the most weight or the most influence on determining housing prices. <br>The top five variables are:-<br>\n",
        "1. Median Income : 79219.0\n",
        "2. Number of Households : 22631.0\n",
        "3. Number of Bedrooms : 22574.0\n",
        "4. Housing Median Age : 20380.0\n",
        "5. Number of Rooms : -5312.0"
      ]
    },
    {
      "cell_type": "code",
      "metadata": {
        "id": "7tIIOdZ029gJ",
        "colab_type": "code",
        "colab": {}
      },
      "source": [
        ""
      ],
      "execution_count": null,
      "outputs": []
    }
  ]
}