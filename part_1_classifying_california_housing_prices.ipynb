{
  "nbformat": 4,
  "nbformat_minor": 0,
  "metadata": {
    "colab": {
      "name": "part_1_classifying_california_housing_prices.ipynb",
      "provenance": [],
      "authorship_tag": "ABX9TyPsOInr0LTRd6nt2gNlvgdT",
      "include_colab_link": true
    },
    "kernelspec": {
      "name": "python3",
      "display_name": "Python 3"
    }
  },
  "cells": [
    {
      "cell_type": "markdown",
      "metadata": {
        "id": "view-in-github",
        "colab_type": "text"
      },
      "source": [
        "<a href=\"https://colab.research.google.com/github/Lawrence-Krukrubo/Predicting_California_Housing_Prices/blob/master/part_1_classifying_california_housing_prices.ipynb\" target=\"_parent\"><img src=\"https://colab.research.google.com/assets/colab-badge.svg\" alt=\"Open In Colab\"/></a>"
      ]
    },
    {
      "cell_type": "markdown",
      "metadata": {
        "id": "CmkeQz2Rbmw_",
        "colab_type": "text"
      },
      "source": [
        "<b><h2>Logistic Regression as Neural Network</b></h2>"
      ]
    },
    {
      "cell_type": "markdown",
      "metadata": {
        "id": "5G-4U6-1Y1Rt",
        "colab_type": "text"
      },
      "source": [
        "We shall hard-code a Neural Network using python and use it to predict the classes of houses in california.\n",
        "\n",
        "After reading and processing the data, we shall classify the houses into two simple categories low_price or high_price. Then we shall build a simple logistic regression model as a neural network, with a softmax function at the output layer to classify the houses as either low or high, based on the prices "
      ]
    },
    {
      "cell_type": "markdown",
      "metadata": {
        "id": "4lmeiMeHbaCP",
        "colab_type": "text"
      },
      "source": [
        "The [Universal Function Approximation Theorem](https://en.wikipedia.org/wiki/Universal_approximation_theorem) states that a neural network with a single hidden layer and a finite number of neurons can approximate continous functions on compact subsets of data points in hyper-dimensional vector spaces, under mild assumptions of the activation function."
      ]
    },
    {
      "cell_type": "code",
      "metadata": {
        "id": "hl1r5LXFY9kM",
        "colab_type": "code",
        "colab": {}
      },
      "source": [
        ""
      ],
      "execution_count": null,
      "outputs": []
    }
  ]
}